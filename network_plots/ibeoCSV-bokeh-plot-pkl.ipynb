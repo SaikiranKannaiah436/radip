{
 "cells": [
  {
   "cell_type": "code",
   "execution_count": null,
   "metadata": {
    "collapsed": true,
    "deletable": true,
    "editable": true
   },
   "outputs": [],
   "source": [
    "import numpy as np \n",
    "import scipy as sp  \n",
    "import random     \n",
    "import bokeh \n",
    "import csv\n",
    "import pandas as pd \n",
    "import struct\n",
    "import os, pickle,sys\n"
   ]
  },
  {
   "cell_type": "code",
   "execution_count": null,
   "metadata": {
    "collapsed": false,
    "deletable": true,
    "editable": true
   },
   "outputs": [],
   "source": [
    "#with open('../data/temp-pkl.pkl', 'rb') as pkl_file:\n",
    "with open('../data/5415172555729652564.pkl', 'rb') as pkl_file:\n",
    "    df_list = pickle.load(pkl_file)"
   ]
  },
  {
   "cell_type": "code",
   "execution_count": null,
   "metadata": {
    "collapsed": true,
    "deletable": true,
    "editable": true
   },
   "outputs": [],
   "source": [
    "df = pd.concat(df_list)"
   ]
  },
  {
   "cell_type": "code",
   "execution_count": null,
   "metadata": {
    "collapsed": true,
    "deletable": true,
    "editable": true
   },
   "outputs": [],
   "source": [
    "#df = pd.read_csv('long.csv')\n",
    "#sf = pd.read_csv('short.csv')\n",
    "#d1 = pd.read_csv('test1.csv')\n",
    "#d2 = pd.read_csv('test2.csv')\n",
    "#d3 = pd.read_csv('test3.csv') #This is the one I have notes for \n",
    "#d4 = pd.read_csv('test4.csv') #Driving Home\n",
    "\n",
    "#s1 = pd.read_csv('round1.csv')\n",
    "#s2 = pd.read_csv('round2.csv')\n",
    "#df = pd.read_csv('round3.csv')\n",
    "#df = pd.read_csv('20170427-stationary-2-leith-croydon.csv')\n",
    "df.Timestamp = df.Timestamp - min(df['Timestamp'])\n"
   ]
  },
  {
   "cell_type": "code",
   "execution_count": null,
   "metadata": {
    "collapsed": false,
    "deletable": true,
    "editable": true
   },
   "outputs": [],
   "source": [
    "df.columns\n",
    "#df[df.distance==max(df.distance)].uniqueId\n"
   ]
  },
  {
   "cell_type": "code",
   "execution_count": null,
   "metadata": {
    "collapsed": false,
    "deletable": true,
    "editable": true
   },
   "outputs": [],
   "source": [
    "#motionModelValidated is always true\n",
    "\n",
    "df.trackedByStationaryModel = (df.trackedByStationaryModel==1)\n",
    "df.mobile = (df.mobile==1)\n",
    "df['ObjPrediction'] = (df.ObjectPredAge > 0)"
   ]
  },
  {
   "cell_type": "code",
   "execution_count": null,
   "metadata": {
    "collapsed": false,
    "deletable": true,
    "editable": true
   },
   "outputs": [],
   "source": [
    "\n",
    "\n",
    "from matplotlib import pyplot as plt\n",
    "Nlines = 260 \n",
    "from itertools import permutations     \n",
    "color_lvl = 8     \n",
    "rgb = np.array(list(permutations(range(0,256,color_lvl),3))) \n",
    "rgb_m = np.array(list(permutations(range(0,256,color_lvl),3)))/255.0\n",
    "\n",
    "from random import sample\n",
    "colors = sample(rgb,Nlines) \n",
    "colors_m = sample(rgb_m,Nlines)\n",
    "\n",
    "#struct.pack('BBB',*rgb).encode('hex')\n",
    "\n",
    "#df['color'] = [tuple(colors[i]) for i in df.ObjectId]\n",
    "df['color'] = [\"#\" + struct.pack('BBB',*colors[i]).encode('hex') for i in df.ObjectId]\n",
    "df['color_m'] = [tuple(colors_m[i]) for i in df.ObjectId]"
   ]
  },
  {
   "cell_type": "code",
   "execution_count": null,
   "metadata": {
    "collapsed": false,
    "deletable": true,
    "editable": true
   },
   "outputs": [],
   "source": [
    "#fill_color= [df['color'].iloc[i] if df['mobile'].iloc[i] else None for i in range(len(df))]"
   ]
  },
  {
   "cell_type": "code",
   "execution_count": null,
   "metadata": {
    "collapsed": false,
    "deletable": true,
    "editable": true
   },
   "outputs": [],
   "source": [
    "#fill_color= [df['color'].iloc[i] if df['mobile'].iloc[i] else None for i in range(len(df))]\n",
    "fill_color= [color if flag else None for color, flag in zip(df['color'],df['mobile'])]\n"
   ]
  },
  {
   "cell_type": "code",
   "execution_count": null,
   "metadata": {
    "collapsed": false,
    "deletable": true,
    "editable": true
   },
   "outputs": [],
   "source": [
    "from bokeh.plotting import figure, show\n",
    "from bokeh.io import output_notebook\n",
    "output_notebook()"
   ]
  },
  {
   "cell_type": "code",
   "execution_count": null,
   "metadata": {
    "collapsed": false,
    "deletable": true,
    "editable": true
   },
   "outputs": [],
   "source": [
    "df.columns\n",
    "list(df[df.distance<-25].uniqueId.unique())\n"
   ]
  },
  {
   "cell_type": "code",
   "execution_count": null,
   "metadata": {
    "collapsed": false,
    "deletable": true,
    "editable": true
   },
   "outputs": [],
   "source": [
    "single_track = df[df['uniqueId']==32693]\n",
    "#print single_track\n",
    "p = figure(plot_height=600, plot_width=700, title=\"\",x_range=(-40,20),y_range=(-30,30))\n",
    "#p = figure(plot_height=600, plot_width=700, title=\"\", tools=[hover],x_range=(-100,0),y_range=(-50,50))\n",
    "#p.image_url(['intersection3.png'],-78.86,40.10,217.62,128.30)\n",
    "p.image_url(['leith-croydon.png'], x=-15.275, y=-3.1, w=147.45, h=77.0, angle=0, anchor='center', global_alpha=0.7)\n",
    "\n",
    "p.circle(x=single_track.Object_X, y=single_track.Object_Y, size=4, fill_color=\"green\", line_color=\"green\")\n",
    "show(p,notebook_handle=True)"
   ]
  },
  {
   "cell_type": "code",
   "execution_count": null,
   "metadata": {
    "collapsed": false,
    "deletable": true,
    "editable": true
   },
   "outputs": [],
   "source": [
    "#max(single_track.Object_Y - single_track.ObjBoxCenter_Y)"
   ]
  },
  {
   "cell_type": "code",
   "execution_count": null,
   "metadata": {
    "collapsed": false,
    "deletable": true,
    "editable": true
   },
   "outputs": [],
   "source": [
    "record_dict = {}\n",
    "df.origin.unique()\n",
    "for origin in df.origin.unique():\n",
    "    for destination in df.destination.unique():\n",
    "        if origin in destination:\n",
    "            continue\n",
    "        dict_key = str(origin + '-' + destination)\n",
    "        print origin + '-' + destination\n",
    "        class_df = df[(df['origin']==origin) & (df['destination']==destination)]\n",
    "        class_df = class_df.sort_values('distance',ascending=False)\n",
    "        max_dis = int(max(class_df.distance.unique())) # max_dis = 60 # \n",
    "        min_dis = int(min(class_df.distance.unique())) #min_dis = -10 #\n",
    "        n_vehicles = len(class_df.uniqueId.unique())\n",
    "        vehicle_cnt = 0\n",
    "        records = []\n",
    "        for uniqueId in class_df.uniqueId.unique():\n",
    "            vehicle_cnt+=1\n",
    "            sys.stdout.write(\"\\rWorking on vehicle %d of %d\" % (vehicle_cnt, n_vehicles))\n",
    "            sys.stdout.flush()\n",
    "            vehicle_df = class_df[class_df['uniqueId']==uniqueId]\n",
    "            vehicle_df = vehicle_df.sort_values('distance',ascending=False)\n",
    "            for d_thresh in np.arange(min_dis,max_dis,0.5):\n",
    "                #print \"distance: \" + str(d_thresh)\n",
    "                \n",
    "                #Find the closest but not over point, add to a thing.\n",
    "                tp = vehicle_df[vehicle_df['distance']<d_thresh]\n",
    "                try:\n",
    "                    record = tp.iloc[range(1)] #\n",
    "                except IndexError:\n",
    "                    # This track does not exist at said distance. Continue\n",
    "                    continue\n",
    "                record = record.assign(d_thresh=np.repeat(d_thresh, len(record)))\n",
    "                # if it is not within 1 meter, there is no data, and we are redundantly appending the last results\n",
    "                if record.iloc[0].distance > (d_thresh -1):\n",
    "                    records.append(record)\n",
    "        print \"Concatenating Records...\"\n",
    "        records = pd.concat(records)\n",
    "        print \"done\"\n",
    "        record_dict[dict_key] = records\n",
    "        "
   ]
  },
  {
   "cell_type": "code",
   "execution_count": null,
   "metadata": {
    "collapsed": true,
    "deletable": true,
    "editable": true
   },
   "outputs": [],
   "source": []
  },
  {
   "cell_type": "code",
   "execution_count": null,
   "metadata": {
    "collapsed": true,
    "deletable": true,
    "editable": true
   },
   "outputs": [],
   "source": []
  },
  {
   "cell_type": "code",
   "execution_count": null,
   "metadata": {
    "collapsed": false,
    "deletable": true,
    "editable": true
   },
   "outputs": [],
   "source": []
  },
  {
   "cell_type": "code",
   "execution_count": null,
   "metadata": {
    "collapsed": false,
    "deletable": true,
    "editable": true
   },
   "outputs": [],
   "source": [
    "track_classes = list(record_dict.keys())\n",
    "track_colors = ['Cyan','DarkBlue','Chartreuse', 'FireBrick','Fuchsia','SeaGreen']\n",
    "origin_destination = 'east-north'\n",
    "speeds_dt = {}\n",
    "headings_dt = {}\n",
    "distances_dt = {}\n",
    "population_dt = {}\n",
    "for track_class, color in zip(track_classes,track_colors):\n",
    "    tf = record_dict[track_class]\n",
    "    distances = np.sort(tf['d_thresh'].unique())\n",
    "    distances_dt[track_class] = distances\n",
    "    speeds = []\n",
    "    headings = []\n",
    "    track_pop = []\n",
    "    for d_thresh in distances:\n",
    "        df_at_dis = tf[tf['d_thresh']==d_thresh]\n",
    "        #print df_at_dis.columns\n",
    "        #Collect various data for plot here. I am going to do speed and heading\n",
    "        speeds.append(np.average(df_at_dis['AbsVelocity'])*3.6)\n",
    "        headings.append(np.average(df_at_dis['ObjBoxOrientation']))\n",
    "        track_pop.append(len(df_at_dis))\n",
    "        \n",
    "    speeds_dt[track_class] = speeds\n",
    "    headings_dt[track_class] = headings\n",
    "    population_dt[track_class] = track_pop\n",
    "\n",
    "        "
   ]
  },
  {
   "cell_type": "code",
   "execution_count": null,
   "metadata": {
    "collapsed": false,
    "deletable": true,
    "editable": true
   },
   "outputs": [],
   "source": [
    "#PLOT STUFF FROM record_dict\n",
    "output_notebook()\n",
    "p = figure(plot_height=600, plot_width=700, title=\"Speeds\")\n",
    "for track_class, color in zip(track_classes,track_colors):\n",
    "    p.line(x=distances_dt[track_class], y=speeds_dt[track_class],legend=track_class, line_width=4, line_color=color)\n",
    "show(p,notebook_handle=True)\n"
   ]
  },
  {
   "cell_type": "code",
   "execution_count": null,
   "metadata": {
    "collapsed": false,
    "deletable": true,
    "editable": true
   },
   "outputs": [],
   "source": [
    "\n"
   ]
  },
  {
   "cell_type": "code",
   "execution_count": null,
   "metadata": {
    "collapsed": false,
    "deletable": true,
    "editable": true
   },
   "outputs": [],
   "source": [
    "output_notebook()\n",
    "p = figure(plot_height=600, plot_width=700, title=\"Headings\")\n",
    "for track_class, color in zip(track_classes,track_colors):\n",
    "    p.line(x=distances_dt[track_class], y=headings_dt[track_class], legend=track_class, line_width=4, line_color=color)\n",
    "show(p,notebook_handle=True)"
   ]
  },
  {
   "cell_type": "code",
   "execution_count": null,
   "metadata": {
    "collapsed": false,
    "deletable": true,
    "editable": true
   },
   "outputs": [],
   "source": [
    "output_notebook()\n",
    "p = figure(plot_height=600, plot_width=700, title=\"Population\")\n",
    "for track_class, color in zip(track_classes,track_colors):\n",
    "    p.line(x=distances_dt[track_class], y=population_dt[track_class], legend=track_class, line_width=4, line_color=color)\n",
    "show(p,notebook_handle=True)"
   ]
  },
  {
   "cell_type": "code",
   "execution_count": null,
   "metadata": {
    "collapsed": false,
    "deletable": true,
    "editable": true
   },
   "outputs": [],
   "source": [
    "list(df[(df.distance>40) & (df.origin=='north') & (df.destination=='south')].uniqueId.unique())\n"
   ]
  },
  {
   "cell_type": "code",
   "execution_count": null,
   "metadata": {
    "collapsed": false,
    "deletable": true,
    "editable": true
   },
   "outputs": [],
   "source": [
    "df.columns"
   ]
  },
  {
   "cell_type": "code",
   "execution_count": null,
   "metadata": {
    "collapsed": false,
    "deletable": true,
    "editable": true
   },
   "outputs": [],
   "source": [
    "list(record_dict.keys())"
   ]
  },
  {
   "cell_type": "code",
   "execution_count": null,
   "metadata": {
    "collapsed": false,
    "deletable": true,
    "editable": true,
    "scrolled": false
   },
   "outputs": [],
   "source": [
    "from bokeh.plotting import figure\n",
    "from bokeh.layouts import layout, widgetbox\n",
    "from bokeh.models import ColumnDataSource, HoverTool, Div\n",
    "from bokeh.models.widgets import Slider, Select, TextInput\n",
    "from bokeh.io import curdoc, push_notebook\n",
    "from ipywidgets import interact\n",
    "import ipywidgets\n",
    "\n",
    "output_notebook()\n",
    "\n",
    "time_max = max(df['Timestamp'])\n",
    "time_min = min(df['Timestamp'])\n",
    "\n",
    "time_slider = Slider(start=time_min,end=time_max,value=time_min,step=1,title=\"Time\")\n",
    "source_rect = ColumnDataSource(data=dict(x=[], y=[], width=[], height=[],angle=[],RefPointLocation=[],\n",
    "                                    color=[], title=[], year=[], revenue=[], alpha=[]))\n",
    "source_circle = ColumnDataSource(data=dict(x=[], y=[], line_color=[], fill_color=[],RefPointLocation=[],\n",
    "                                           title=[], year=[], revenue=[], alpha=[]))\n",
    "source_crossH = ColumnDataSource(data=dict(x=[], y=[], width=[], height=[],angle=[],RefPointLocation=[],\n",
    "                                    color=[], title=[], year=[], revenue=[], alpha=[]))\n",
    "source_crossW = ColumnDataSource(data=dict(x=[], y=[], width=[], height=[],angle=[],RefPointLocation=[],\n",
    "                                    color=[], title=[], year=[], revenue=[], alpha=[]))\n",
    "source_ref_pt = ColumnDataSource(data=dict(x=[], y=[], line_color=[], fill_color=[], RefPointLocation=[],\n",
    "                                           title=[], year=[], revenue=[], alpha=[]))\n",
    "source_seg = ColumnDataSource(data=dict(x0=[], y0=[], x1=[], y1=[], line_color=[], fill_color=[], RefPointLocation=[],\n",
    "                                           title=[], year=[], revenue=[], alpha=[]))\n",
    "source_seg_accel = ColumnDataSource(data=dict(x0=[], y0=[], x1=[], y1=[], line_color=[], fill_color=[], RefPointLocation=[],\n",
    "                                           title=[], year=[], revenue=[], alpha=[]))\n",
    "#Sliders:\n",
    "slider_time = ipywidgets.FloatSlider(\n",
    "    #value = (time_max+time_min)/2, min=time_min, max=time_max, step = 0.1, description=\"Time\",slider_color=\"red\")\n",
    "    value = time_max, min=time_min, max=time_max, step = 0.1, description=\"Time\",slider_color=\"red\")\n",
    "window_slider = ipywidgets.FloatSlider(\n",
    "    #value = 5, min=1, max=time_max, step = 0.1, description=\"Time Window\",slider_color=\"blue\")\n",
    "    value = time_max, min=1, max=time_max, step = 0.1, description=\"Time Window\",slider_color=\"blue\")\n",
    "min_conf_slider = ipywidgets.FloatSlider(\n",
    "    value = 5, min=0, max=100, step = 1, description=\"Min Classification Score\",slider_color=\"green\")\n",
    "\n",
    "\n",
    "hover = HoverTool(tooltips=[\n",
    "    (\"ObjectId\", \"@ObjectId\"),\n",
    "    (\"Object_Y\",\"@ObjBoxCenter_Y\"),\n",
    "    (\"Object_X\",\"@ObjBoxCenter_X\"),\n",
    "    (\"Vel\",\"@AbsVelocity\"),\n",
    "    #(\"$\", \"@revenue\")\n",
    "])\n",
    "# tools=[hover,'pan','wheel_zoom','box_zoom','reset','resize'],\n",
    "p = figure(plot_height=600, plot_width=700, title=\"\", x_range=(-40,20),y_range=(-30,30))\n",
    "#p = figure(plot_height=600, plot_width=700, title=\"\", tools=[hover],x_range=(-100,0),y_range=(-50,50))\n",
    "#p.image_url(['intersection3.png'],-78.86,40.10,217.62,128.30)\n",
    "p.image_url(['leith-croydon.png'], x=-15.275, y=-3.1, w=147.45, h=77.0, angle=0, anchor='center', global_alpha=0.7)\n",
    "p.rect(x=\"x\", y=\"y\", width=\"width\",height=\"height\", angle=\"angle\",source=source_crossH, fill_color=\"color\",\n",
    "       line_color=\"color\")\n",
    "p.circle(x=\"x\", y=\"y\", source=source_circle, size=4, fill_color=\"fill_color\", line_color=\"line_color\")\n",
    "p.circle(x=\"x\", y=\"y\", source=source_ref_pt, size=3, fill_color=\"black\", line_color=\"black\")\n",
    "p.rect(x=\"x\", y=\"y\", width=\"width\",height=\"height\", angle=\"angle\",source=source_rect, fill_color=None,\n",
    "       line_color=\"color\")\n",
    "p.rect(x=\"x\", y=\"y\", width=\"width\",height=\"height\", angle=\"angle\",source=source_crossW, fill_color=\"color\",\n",
    "       line_color=\"color\")\n",
    "p.segment(x0='x0',y0='y0',x1='x1',y1='y1',line_width=2,line_color='orange',source=source_seg)\n",
    "p.segment(x0='x0',y0='y0',x1='x1',y1='y1',line_width=2,line_color='pink',source=source_seg_accel)\n",
    "\n",
    "\n",
    "show(p,notebook_handle=True)\n",
    "\n",
    "def select_data(time_val, time_window, min_conf):\n",
    "    #time_val = time_slider.value\n",
    "    #t_min = time_val-(float(time_window)/2.0)\n",
    "    #t_max = time_val+(float(time_window)/2.0)\n",
    "    t_min = time_val-time_window\n",
    "    t_max = time_val\n",
    "\n",
    "    selected = df[\n",
    "        (df.Timestamp > t_min)\n",
    "        &\n",
    "        (df.Timestamp < t_max)\n",
    "        &\n",
    "        (df.Classification >3 )\n",
    "        &\n",
    "        (df.ClassCertainty > min_conf)\n",
    "    ]\n",
    "    \n",
    "    return_df = pd.DataFrame()\n",
    "    \n",
    "    for obj_id in selected.ObjectId.unique():\n",
    "        object_df = selected[selected.ObjectId==obj_id].sort_values(['Timestamp'],ascending=False)\n",
    "        selected_record=object_df.iloc[0].copy()\n",
    "        if len(object_df) > 1:\n",
    "            selected_record['AbsAccel_X'] = object_df['AbsVelocity_X'].iloc[0] - object_df['AbsVelocity_X'].iloc[1]\n",
    "            selected_record['AbsAccel_Y'] = object_df['AbsVelocity_Y'].iloc[0] - object_df['AbsVelocity_Y'].iloc[1]\n",
    "        else:\n",
    "            selected_record['AbsAccel_X'] = 0\n",
    "            selected_record['AbsAccel_Y'] = 0\n",
    "        return_df = return_df.append(selected_record)\n",
    "        \n",
    "    # Only draw box if car was seen in last 0.5 seconds. \n",
    "    # I really only want if it was seen at THIS timestep, but this is close enough\n",
    "    recent_only_df = return_df[return_df['Timestamp']> (time_val-0.2)]\n",
    "    return recent_only_df, selected #selected\n",
    "\n",
    "def update(time_value=slider_time,time_window=window_slider,min_conf=min_conf_slider):\n",
    "    df_rect, df_circle = select_data(time_value,time_window,min_conf)\n",
    "    #print df_rect\n",
    "    source_rect.data = dict(\n",
    "        x=df_rect['ObjBoxCenter_X'],\n",
    "        y=df_rect['ObjBoxCenter_Y'],\n",
    "        width=df_rect['ObjBoxSize_X'],\n",
    "        height=df_rect['ObjBoxSize_Y'],\n",
    "        angle=df_rect['ObjBoxOrientation'],\n",
    "        color=df_rect['color'],\n",
    "        ObjectId=df_rect['ObjectId'],\n",
    "        RefPointLocation = df_rect['RefPointLocation'],\n",
    "        AbsVelocity = df_rect['AbsVelocity'],\n",
    "        Timestamp=df_rect['Timestamp']\n",
    "    )\n",
    "    source_ref_pt.data = dict(\n",
    "        x=df_rect['RefPointCoords_X'],\n",
    "        y=df_rect['RefPointCoords_Y'],\n",
    "        ObjectId=df_rect['ObjectId'],\n",
    "        RefPointLocation = df_rect['RefPointLocation'],\n",
    "        AbsVelocity = df_rect['AbsVelocity'],\n",
    "        Timestamp=df_rect['Timestamp']\n",
    "    )\n",
    "    source_seg.data = dict(\n",
    "        x0=df_rect['ObjBoxCenter_X'],\n",
    "        y0=df_rect['ObjBoxCenter_Y'],\n",
    "        x1=df_rect['ObjBoxCenter_X'].add(df_rect['AbsVelocity_X']),\n",
    "        y1=df_rect['ObjBoxCenter_Y'].add(df_rect['AbsVelocity_Y']),\n",
    "        ObjectId=df_rect['ObjectId'],\n",
    "        RefPointLocation = df_rect['RefPointLocation'],\n",
    "        AbsVelocity = df_rect['AbsVelocity'],\n",
    "        Timestamp=df_rect['Timestamp']\n",
    "    )\n",
    "    source_seg_accel.data = dict(\n",
    "        x0=df_rect['ObjBoxCenter_X'],\n",
    "        y0=df_rect['ObjBoxCenter_Y'],\n",
    "        x1=df_rect['ObjBoxCenter_X'].add(10*df_rect['AbsAccel_X']),\n",
    "        y1=df_rect['ObjBoxCenter_Y'].add(10*df_rect['AbsAccel_Y']),\n",
    "        ObjectId=df_rect['ObjectId'],\n",
    "        RefPointLocation = df_rect['RefPointLocation'],\n",
    "        AbsVelocity = df_rect['AbsVelocity'],\n",
    "        Timestamp=df_rect['Timestamp']\n",
    "    )\n",
    "    source_circle.data = dict(\n",
    "        x=df_circle['ObjBoxCenter_X'],\n",
    "        y=df_circle['ObjBoxCenter_Y'],\n",
    "        fill_color= [color if not flag else \"#FFFFFF\" for color,flag in zip(df_circle['color'],df_circle['ObjPrediction'])],\n",
    "        line_color=df_circle['color'],\n",
    "        ObjectId=df_circle['ObjectId'],\n",
    "        #RefPointLocation = df_rect['RefPointLocation'],\n",
    "        AbsVelocity = df_rect['AbsVelocity'],\n",
    "        Timestamp=df_circle['Timestamp']\n",
    "    )\n",
    "    source_crossW.data = dict(\n",
    "        x=df_rect['ObjBoxCenter_X'],\n",
    "        y=df_rect['ObjBoxCenter_Y'],\n",
    "        width=df_rect['ObjBoxCenterSigma_X'],\n",
    "        height=[0.1]*len(df_rect),\n",
    "        angle=df_rect['ObjBoxOrientation'],\n",
    "        color=df_rect['color'],\n",
    "        ObjectId=df_rect['ObjectId'],\n",
    "        RefPointLocation = df_rect['RefPointLocation'],\n",
    "        AbsVelocity = df_rect['AbsVelocity'],\n",
    "        Timestamp=df_rect['Timestamp']\n",
    "    )\n",
    "    #'ObjBoxCenterSigma_Y'\n",
    "    source_crossH.data = dict(\n",
    "        x=df_rect['ObjBoxCenter_X'],\n",
    "        y=df_rect['ObjBoxCenter_Y'],\n",
    "        width=[0.1]*len(df_rect),\n",
    "        height=df_rect['ObjBoxCenterSigma_Y'],\n",
    "        angle=df_rect['ObjBoxOrientation'],\n",
    "        color=df_rect['color'],\n",
    "        ObjectId=df_rect['ObjectId'],\n",
    "        RefPointLocation = df_rect['RefPointLocation'],\n",
    "        AbsVelocity = df_rect['AbsVelocity'],\n",
    "        Timestamp=df_rect['Timestamp']\n",
    "    )\n",
    "    \n",
    "    push_notebook()\n",
    "\n",
    "\n",
    "update(time_max,1,5)  # initial load of the data\n",
    "\n"
   ]
  },
  {
   "cell_type": "code",
   "execution_count": null,
   "metadata": {
    "collapsed": false,
    "deletable": true,
    "editable": true
   },
   "outputs": [],
   "source": [
    "#If this fails run $ jupyter nbextension enable --py --sys-prefix widgetsnbextension\n",
    "\n",
    "interact(update,time_val=slider_time,time_window=window_slider,min_conf=min_conf_slider)\n"
   ]
  },
  {
   "cell_type": "code",
   "execution_count": null,
   "metadata": {
    "collapsed": true,
    "deletable": true,
    "editable": true
   },
   "outputs": [],
   "source": []
  }
 ],
 "metadata": {
  "kernelspec": {
   "display_name": "Python 2",
   "language": "python",
   "name": "python2"
  },
  "language_info": {
   "codemirror_mode": {
    "name": "ipython",
    "version": 2
   },
   "file_extension": ".py",
   "mimetype": "text/x-python",
   "name": "python",
   "nbconvert_exporter": "python",
   "pygments_lexer": "ipython2",
   "version": "2.7.12"
  }
 },
 "nbformat": 4,
 "nbformat_minor": 2
}
