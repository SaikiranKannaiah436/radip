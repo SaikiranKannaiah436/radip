{
 "cells": [
  {
   "cell_type": "code",
   "execution_count": null,
   "metadata": {
    "collapsed": true,
    "deletable": true,
    "editable": true
   },
   "outputs": [],
   "source": [
    "import numpy as np \n",
    "import scipy as sp  \n",
    "import random     \n",
    "import bokeh \n",
    "import csv\n",
    "import pandas as pd \n",
    "import struct\n"
   ]
  },
  {
   "cell_type": "code",
   "execution_count": null,
   "metadata": {
    "collapsed": true,
    "deletable": true,
    "editable": true
   },
   "outputs": [],
   "source": [
    "#df = pd.read_csv('long.csv')\n",
    "#sf = pd.read_csv('short.csv')\n",
    "#d1 = pd.read_csv('test1.csv')\n",
    "#d2 = pd.read_csv('test2.csv')\n",
    "#d3 = pd.read_csv('test3.csv') #This is the one I have notes for \n",
    "#d4 = pd.read_csv('test4.csv') #Driving Home\n",
    "\n",
    "#s1 = pd.read_csv('round1.csv')\n",
    "#s2 = pd.read_csv('round2.csv')\n",
    "df = pd.read_csv('round3.csv')\n",
    "\n",
    "df.Timestamp = df.Timestamp - df.iloc[0].Timestamp\n"
   ]
  },
  {
   "cell_type": "code",
   "execution_count": null,
   "metadata": {
    "collapsed": false,
    "deletable": true,
    "editable": true
   },
   "outputs": [],
   "source": [
    "print max(df.Flags)\n",
    "# Flags: 0x0040 stationary model --> ego vehicle is stationary?\n",
    "#        0x0080 detected/validated as mobile\n",
    "#        0x0100 Validated \"valid enough to send out to the interface\"\n",
    "# Always 320 or 448. i.e. only the mobile flag changes.\n",
    "\n",
    "# Centre of grav = 0\n",
    "# FL 1\n",
    "# FR 2\n",
    "# RR 3\n",
    "# Rl 4\n",
    "# FC 5\n",
    "# RC 6\n",
    "# LC 8\n",
    "# ObjC 9\n",
    "# Ukn FF\n",
    "\n",
    "#df.ObjExtMeasurement #WTF IS THIS?\n",
    "#df.ObjPriority -> Priority of what? Imminent threat? Exists between 57344 and 65535.\n",
    "# df.getRefPointPosCorrCoeffs #Is this is plural, why is it a single float?\n",
    "\n",
    "#objextmeasurement is a float between 0 and 1\n",
    "# I don't know what it is.\n",
    "#Abs / Rel Velocity X/Y\n",
    "# Is always in the car co-ord frame, only adjusted for Ego Vehicle speed. It is not oriented on the car itself.\n"
   ]
  },
  {
   "cell_type": "code",
   "execution_count": null,
   "metadata": {
    "collapsed": false,
    "deletable": true,
    "editable": true
   },
   "outputs": [],
   "source": [
    "#motionModelValidated is always true\n",
    "\n",
    "df.trackedByStationaryModel = (df.trackedByStationaryModel==1)\n",
    "df.mobile = (df.mobile==1)\n",
    "df['ObjPrediction'] = (df.ObjectPredAge > 0)"
   ]
  },
  {
   "cell_type": "code",
   "execution_count": null,
   "metadata": {
    "collapsed": false,
    "deletable": true,
    "editable": true
   },
   "outputs": [],
   "source": [
    "print min(df.trackedByStationaryModel)\n",
    "print max(df.trackedByStationaryModel)\n"
   ]
  },
  {
   "cell_type": "code",
   "execution_count": null,
   "metadata": {
    "collapsed": false,
    "deletable": true,
    "editable": true
   },
   "outputs": [],
   "source": [
    "print max(df.AbsVelocity_X)"
   ]
  },
  {
   "cell_type": "code",
   "execution_count": null,
   "metadata": {
    "collapsed": false,
    "deletable": true,
    "editable": true
   },
   "outputs": [],
   "source": [
    "\n",
    "\n",
    "from matplotlib import pyplot as plt\n",
    "Nlines = 260 \n",
    "from itertools import permutations     \n",
    "color_lvl = 8     \n",
    "rgb = np.array(list(permutations(range(0,256,color_lvl),3))) \n",
    "rgb_m = np.array(list(permutations(range(0,256,color_lvl),3)))/255.0\n",
    "\n",
    "from random import sample\n",
    "colors = sample(rgb,Nlines) \n",
    "colors_m = sample(rgb_m,Nlines)\n",
    "\n",
    "#struct.pack('BBB',*rgb).encode('hex')\n",
    "\n",
    "#df['color'] = [tuple(colors[i]) for i in df.ObjectId]\n",
    "df['color'] = [\"#\" + struct.pack('BBB',*colors[i]).encode('hex') for i in df.ObjectId]\n",
    "df['color_m'] = [tuple(colors_m[i]) for i in df.ObjectId]"
   ]
  },
  {
   "cell_type": "code",
   "execution_count": null,
   "metadata": {
    "collapsed": false,
    "deletable": true,
    "editable": true
   },
   "outputs": [],
   "source": [
    "print len(df)\n",
    "print len(df.where(df['mobile']).color)\n",
    "x = [None]*len(df)\n",
    "print len(x)\n",
    "print len(df[df['mobile']])\n",
    "print pd.__version__\n",
    "\n",
    "#Iterator / generator / yield\n",
    "# Time meory allocation ([None]*len)\n",
    "# list comprehension [x[i] for i in y]\n",
    "\n",
    "fill_color= [df['color'].iloc[i] if df['mobile'].iloc[i] else None for i in range(len(df))]"
   ]
  },
  {
   "cell_type": "code",
   "execution_count": null,
   "metadata": {
    "collapsed": false,
    "deletable": true,
    "editable": true
   },
   "outputs": [],
   "source": [
    "#fill_color= [df['color'].iloc[i] if df['mobile'].iloc[i] else None for i in range(len(df))]\n",
    "fill_color= [color if flag else None for color, flag in zip(df['color'],df['mobile'])]\n"
   ]
  },
  {
   "cell_type": "code",
   "execution_count": null,
   "metadata": {
    "collapsed": false,
    "deletable": true,
    "editable": true
   },
   "outputs": [],
   "source": [
    "from bokeh.plotting import figure, show\n",
    "from bokeh.io import output_notebook\n",
    "output_notebook()"
   ]
  },
  {
   "cell_type": "code",
   "execution_count": null,
   "metadata": {
    "collapsed": false,
    "deletable": true,
    "editable": true
   },
   "outputs": [],
   "source": [
    "print min(df.ObjExtMeasurement)\n",
    "print max(df.ObjExtMeasurement)"
   ]
  },
  {
   "cell_type": "markdown",
   "metadata": {
    "collapsed": false,
    "deletable": true,
    "editable": true
   },
   "source": [
    "output_notebook()\n",
    "df = s3\n",
    "p = figure(plot_width = 800,plot_height = 800)\n",
    "for i in df.ObjectId.unique(): \n",
    "  color=tuple(colors[i])\n",
    "  data = df[df.ObjectId==i] \n",
    "  p.circle(data.Timestamp,data.ObjectAge,size=2,color=color) \n",
    "show(p,notebook_handle=True)"
   ]
  },
  {
   "cell_type": "markdown",
   "metadata": {
    "collapsed": false,
    "deletable": true,
    "editable": true
   },
   "source": [
    "output_notebook()\n",
    "df = s3\n",
    "p = figure(plot_width = 800,plot_height = 800)\n",
    "color=tuple(colors[1])\n",
    "data = df[df.ObjectId==144] \n",
    "p.circle(data.Timestamp,data.ObjectAge,size=2,color=color) \n",
    "show(p,notebook_handle=True)"
   ]
  },
  {
   "cell_type": "markdown",
   "metadata": {
    "collapsed": false,
    "deletable": true,
    "editable": true
   },
   "source": [
    "Now, I don't know why I'm looking at disjoint lines. This is supposed to be all observations of 'objectId' 1. So why are not all of the lines starting at zero age?"
   ]
  },
  {
   "cell_type": "code",
   "execution_count": null,
   "metadata": {
    "collapsed": false,
    "deletable": true,
    "editable": true
   },
   "outputs": [],
   "source": [
    "df.columns"
   ]
  },
  {
   "cell_type": "markdown",
   "metadata": {
    "deletable": true,
    "editable": true
   },
   "source": [
    "Classes are:\n",
    "1 Unknown Small\n",
    "2 Unknown Big\n",
    "3 Pedestrian\n",
    "4 Bike\n",
    "5 Car\n",
    "6 Truck\n",
    "The scala also has a 12 id that is bicycle.\n"
   ]
  },
  {
   "cell_type": "markdown",
   "metadata": {
    "collapsed": false,
    "deletable": true,
    "editable": true
   },
   "source": [
    "output_notebook()\n",
    "p = figure(plot_width = 800,plot_height = 800)\n",
    "color=tuple(colors[1])\n",
    "data = df[df.ObjectId==72] \n",
    "#data= data[data.Classification >3]\n",
    "#The one that starts at 20 something jumps from class 1 to 2\n",
    "len(colors)\n",
    "for i in data.Classification.unique(): \n",
    "  color=tuple(colors[i*30])\n",
    "  pf = data[data.Classification==i] \n",
    "  p.circle(pf.Timestamp,pf.ObjectAge,size=2,color=color)\n",
    "\n",
    "#p.circle(data.Timestamp,data.ObjectAge,size=2,color=color) \n",
    "show(p,notebook_handle=True)"
   ]
  },
  {
   "cell_type": "markdown",
   "metadata": {
    "collapsed": true,
    "deletable": true,
    "editable": true
   },
   "source": [
    "from bokeh.plotting import figure\n",
    "from bokeh.layouts import layout, widgetbox\n",
    "from bokeh.models import ColumnDataSource, HoverTool, Div\n",
    "from bokeh.models.widgets import Slider, Select, TextInput\n",
    "from bokeh.io import curdoc, push_notebook\n",
    "\n",
    "output_notebook()\n",
    "\n",
    "time_max = max(df['Timestamp'])\n",
    "time_min = min(df['Timestamp'])\n",
    "\n",
    "time_slider = Slider(start=time_min,end=time_max,value=time_min,step=1,title=\"Time\")\n",
    "source = ColumnDataSource(data=dict(x=[], y=[], color=[], title=[], year=[], revenue=[], alpha=[]))\n",
    "\n",
    "\n",
    "hover = HoverTool(tooltips=[\n",
    "    (\"ObjectId\", \"@ObjectId\")#,\n",
    "    #(\"Year\", \"@year\"),\n",
    "    #(\"$\", \"@revenue\")\n",
    "])\n",
    "\n",
    "p = figure(plot_height=600, plot_width=700, title=\"\", toolbar_location=None, tools=[hover])\n",
    "p.circle(x=\"x\", y=\"y\", source=source, size=7, color=\"color\")\n",
    "\n",
    "\n",
    "def select_data():\n",
    "    time_val = time_slider.value\n",
    "    selected = df[\n",
    "        (df.Timestamp == time_val) \n",
    "        #&\n",
    "        #(movies.BoxOffice >= (boxoffice.value * 1e6)) &\n",
    "        #(movies.Year >= min_year.value) &\n",
    "        #(movies.Year <= max_year.value) &\n",
    "        #(movies.Oscars >= oscars.value)\n",
    "    ]\n",
    "    # This is how you do a 'select' widget\n",
    "    #if (genre_val != \"All\"):\n",
    "    #    selected = selected[selected.Genre.str.contains(genre_val)==True]\n",
    "    \n",
    "    return selected\n",
    "\n",
    "def update():\n",
    "    df = select_data()\n",
    "    \n",
    "    source.data = dict(\n",
    "        x=df['ObjBoxCente_X'],\n",
    "        y=df['ObjBoxCenter_Y'],\n",
    "        color=df['color_m'],\n",
    "        ObjectId=df['ObjectId'],\n",
    "        Timestamp=df['Timestamp']\n",
    "        #title=df[\"Title\"],\n",
    "        #year=df[\"Year\"],\n",
    "        #revenue=df[\"revenue\"],\n",
    "        #alpha=df[\"alpha\"],\n",
    "    )\n",
    "    push_notebook()\n",
    "\n",
    "controls = [time_slider]\n",
    "for control in controls:\n",
    "    control.on_change('value', lambda attr, old, new: update())\n",
    "\n",
    "sizing_mode = 'scale_width'  # 'scale_width' also looks nice with this example\n",
    "\n",
    "inputs = widgetbox(*controls, sizing_mode=sizing_mode)\n",
    "l = layout([\n",
    "    #[desc],\n",
    "    [p],\n",
    "    [inputs],\n",
    "], sizing_mode=sizing_mode)\n",
    "\n",
    "update()  # initial load of the data\n",
    "\n",
    "#curdoc().add_root(l)\n",
    "#curdoc().title = \"Intersection\"\n",
    "show(l,notebook_handle=True)\n",
    "push_notebook()\n"
   ]
  },
  {
   "cell_type": "code",
   "execution_count": null,
   "metadata": {
    "collapsed": false,
    "deletable": true,
    "editable": true,
    "scrolled": false
   },
   "outputs": [],
   "source": [
    "from bokeh.plotting import figure\n",
    "from bokeh.layouts import layout, widgetbox\n",
    "from bokeh.models import ColumnDataSource, HoverTool, Div\n",
    "from bokeh.models.widgets import Slider, Select, TextInput\n",
    "from bokeh.io import curdoc, push_notebook\n",
    "from ipywidgets import interact\n",
    "import ipywidgets\n",
    "\n",
    "output_notebook()\n",
    "\n",
    "time_max = max(df['Timestamp'])\n",
    "time_min = min(df['Timestamp'])\n",
    "\n",
    "time_slider = Slider(start=time_min,end=time_max,value=time_min,step=1,title=\"Time\")\n",
    "source_rect = ColumnDataSource(data=dict(x=[], y=[], width=[], height=[],angle=[],RefPointLocation=[],\n",
    "                                    color=[], title=[], year=[], revenue=[], alpha=[]))\n",
    "source_circle = ColumnDataSource(data=dict(x=[], y=[], line_color=[], fill_color=[],RefPointLocation=[],\n",
    "                                           title=[], year=[], revenue=[], alpha=[]))\n",
    "source_crossH = ColumnDataSource(data=dict(x=[], y=[], width=[], height=[],angle=[],RefPointLocation=[],\n",
    "                                    color=[], title=[], year=[], revenue=[], alpha=[]))\n",
    "source_crossW = ColumnDataSource(data=dict(x=[], y=[], width=[], height=[],angle=[],RefPointLocation=[],\n",
    "                                    color=[], title=[], year=[], revenue=[], alpha=[]))\n",
    "source_ref_pt = ColumnDataSource(data=dict(x=[], y=[], line_color=[], fill_color=[], RefPointLocation=[],\n",
    "                                           title=[], year=[], revenue=[], alpha=[]))\n",
    "source_seg = ColumnDataSource(data=dict(x0=[], y0=[], x1=[], y1=[], line_color=[], fill_color=[], RefPointLocation=[],\n",
    "                                           title=[], year=[], revenue=[], alpha=[]))\n",
    "source_seg_accel = ColumnDataSource(data=dict(x0=[], y0=[], x1=[], y1=[], line_color=[], fill_color=[], RefPointLocation=[],\n",
    "                                           title=[], year=[], revenue=[], alpha=[]))\n",
    "#Sliders:\n",
    "slider_time = ipywidgets.FloatSlider(\n",
    "    value = 567, min=time_min, max=time_max, step = 0.1, description=\"Time\",slider_color=\"red\")\n",
    "window_slider = ipywidgets.FloatSlider(\n",
    "    value = 5, min=1, max=time_max, step = 0.1, description=\"Time Window\",slider_color=\"blue\")\n",
    "min_conf_slider = ipywidgets.FloatSlider(\n",
    "    value = 5, min=0, max=100, step = 1, description=\"Min Classification Score\",slider_color=\"green\")\n",
    "\n",
    "\n",
    "hover = HoverTool(tooltips=[\n",
    "    (\"ObjectId\", \"@ObjectId\"),\n",
    "    (\"RefPointLocation\", \"@RefPointLocation\"),\n",
    "    #(\"$\", \"@revenue\")\n",
    "])\n",
    "\n",
    "p = figure(plot_height=600, plot_width=700, title=\"\", tools=[hover],x_range=(-5,60),y_range=(-50,15))\n",
    "#p = figure(plot_height=600, plot_width=700, title=\"\", tools=[hover],x_range=(-100,0),y_range=(-50,50))\n",
    "p.image_url(['intersection3.png'],-78.86,40.10,217.62,128.30,global_alpha=0.7)\n",
    "p.rect(x=\"x\", y=\"y\", width=\"width\",height=\"height\", angle=\"angle\",source=source_crossH, fill_color=\"color\",\n",
    "       line_color=\"color\")\n",
    "p.circle(x=\"x\", y=\"y\", source=source_circle, size=4, fill_color=\"fill_color\", line_color=\"line_color\")\n",
    "p.circle(x=\"x\", y=\"y\", source=source_ref_pt, size=3, fill_color=\"black\", line_color=\"black\")\n",
    "p.rect(x=\"x\", y=\"y\", width=\"width\",height=\"height\", angle=\"angle\",source=source_rect, fill_color=None,\n",
    "       line_color=\"color\")\n",
    "p.rect(x=\"x\", y=\"y\", width=\"width\",height=\"height\", angle=\"angle\",source=source_crossW, fill_color=\"color\",\n",
    "       line_color=\"color\")\n",
    "p.segment(x0='x0',y0='y0',x1='x1',y1='y1',line_width=2,line_color='orange',source=source_seg)\n",
    "p.segment(x0='x0',y0='y0',x1='x1',y1='y1',line_width=2,line_color='pink',source=source_seg_accel)\n",
    "\n",
    "\n",
    "show(p,notebook_handle=True)\n",
    "\n",
    "def select_data(time_val, time_window, min_conf):\n",
    "    #time_val = time_slider.value\n",
    "    #t_min = time_val-(float(time_window)/2.0)\n",
    "    #t_max = time_val+(float(time_window)/2.0)\n",
    "    t_min = time_val-time_window\n",
    "    t_max = time_val\n",
    "\n",
    "    selected = df[\n",
    "        (df.Timestamp > t_min)\n",
    "        &\n",
    "        (df.Timestamp < t_max)\n",
    "        &\n",
    "        (df.Classification >3 )\n",
    "        &\n",
    "        (df.ClassCertainty > min_conf)\n",
    "    ]\n",
    "    \n",
    "    return_df = pd.DataFrame()\n",
    "    \n",
    "    for obj_id in selected.ObjectId.unique():\n",
    "        object_df = selected[selected.ObjectId==obj_id].sort_values(['Timestamp'],ascending=False)\n",
    "        selected_record=object_df.iloc[0].copy()\n",
    "        if len(object_df) > 1:\n",
    "            selected_record['AbsAccel_X'] = object_df['AbsVelocity_X'].iloc[0] - object_df['AbsVelocity_X'].iloc[1]\n",
    "            selected_record['AbsAccel_Y'] = object_df['AbsVelocity_Y'].iloc[0] - object_df['AbsVelocity_Y'].iloc[1]\n",
    "        else:\n",
    "            selected_record['AbsAccel_X'] = 0\n",
    "            selected_record['AbsAccel_Y'] = 0\n",
    "        return_df = return_df.append(selected_record)\n",
    "        \n",
    "    # Only draw box if car was seen in last 0.5 seconds. \n",
    "    # I really only want if it was seen at THIS timestep, but this is close enough\n",
    "    recent_only_df = return_df[return_df['Timestamp']> (time_val-0.2)]\n",
    "    return recent_only_df, selected #selected\n",
    "\n",
    "def update(time_value=slider_time,time_window=window_slider,min_conf=min_conf_slider):\n",
    "    df_rect, df_circle = select_data(time_value,time_window,min_conf)\n",
    "    #print df_rect\n",
    "    source_rect.data = dict(\n",
    "        x=df_rect['ObjBoxCente_X'],\n",
    "        y=df_rect['ObjBoxCenter_Y'],\n",
    "        width=df_rect['ObjBoxSize_X'],\n",
    "        height=df_rect['ObjBoxSize_Y'],\n",
    "        angle=df_rect['ObjBoxOrientation'],\n",
    "        color=df_rect['color'],\n",
    "        ObjectId=df_rect['ObjectId'],\n",
    "        RefPointLocation = df_rect['RefPointLocation'],\n",
    "        Timestamp=df_rect['Timestamp']\n",
    "    )\n",
    "    source_ref_pt.data = dict(\n",
    "        x=df_rect['RefPointCoords_X'],\n",
    "        y=df_rect['RefPointCoords_Y'],\n",
    "        ObjectId=df_rect['ObjectId'],\n",
    "        RefPointLocation = df_rect['RefPointLocation'],\n",
    "        Timestamp=df_rect['Timestamp']\n",
    "    )\n",
    "    source_seg.data = dict(\n",
    "        x0=df_rect['ObjBoxCente_X'],\n",
    "        y0=df_rect['ObjBoxCenter_Y'],\n",
    "        x1=df_rect['ObjBoxCente_X'].add(df_rect['AbsVelocity_X']),\n",
    "        y1=df_rect['ObjBoxCenter_Y'].add(df_rect['AbsVelocity_Y']),\n",
    "        ObjectId=df_rect['ObjectId'],\n",
    "        RefPointLocation = df_rect['RefPointLocation'],\n",
    "        Timestamp=df_rect['Timestamp']\n",
    "    )\n",
    "    source_seg_accel.data = dict(\n",
    "        x0=df_rect['ObjBoxCente_X'],\n",
    "        y0=df_rect['ObjBoxCenter_Y'],\n",
    "        x1=df_rect['ObjBoxCente_X'].add(10*df_rect['AbsAccel_X']),\n",
    "        y1=df_rect['ObjBoxCenter_Y'].add(10*df_rect['AbsAccel_Y']),\n",
    "        ObjectId=df_rect['ObjectId'],\n",
    "        RefPointLocation = df_rect['RefPointLocation'],\n",
    "        Timestamp=df_rect['Timestamp']\n",
    "    )\n",
    "    source_circle.data = dict(\n",
    "        x=df_circle['ObjBoxCente_X'],\n",
    "        y=df_circle['ObjBoxCenter_Y'],\n",
    "        fill_color= [color if not flag else \"#FFFFFF\" for color,flag in zip(df_circle['color'],df_circle['ObjPrediction'])],\n",
    "        line_color=df_circle['color'],\n",
    "        ObjectId=df_circle['ObjectId'],\n",
    "        #RefPointLocation = df_rect['RefPointLocation'],\n",
    "        Timestamp=df_circle['Timestamp']\n",
    "    )\n",
    "    source_crossW.data = dict(\n",
    "        x=df_rect['ObjBoxCente_X'],\n",
    "        y=df_rect['ObjBoxCenter_Y'],\n",
    "        width=df_rect['ObjBoxCenterSigma_X'],\n",
    "        height=[0.1]*len(df_rect),\n",
    "        angle=df_rect['ObjBoxOrientation'],\n",
    "        color=df_rect['color'],\n",
    "        ObjectId=df_rect['ObjectId'],\n",
    "        RefPointLocation = df_rect['RefPointLocation'],\n",
    "        Timestamp=df_rect['Timestamp']\n",
    "    )\n",
    "    #'ObjBoxCenterSigma_Y'\n",
    "    source_crossH.data = dict(\n",
    "        x=df_rect['ObjBoxCente_X'],\n",
    "        y=df_rect['ObjBoxCenter_Y'],\n",
    "        width=[0.1]*len(df_rect),\n",
    "        height=df_rect['ObjBoxCenterSigma_Y'],\n",
    "        angle=df_rect['ObjBoxOrientation'],\n",
    "        color=df_rect['color'],\n",
    "        ObjectId=df_rect['ObjectId'],\n",
    "        RefPointLocation = df_rect['RefPointLocation'],\n",
    "        Timestamp=df_rect['Timestamp']\n",
    "    )\n",
    "    \n",
    "    push_notebook()\n",
    "\n",
    "\n",
    "update(time_max,1,5)  # initial load of the data\n",
    "\n"
   ]
  },
  {
   "cell_type": "code",
   "execution_count": null,
   "metadata": {
    "collapsed": false,
    "deletable": true,
    "editable": true
   },
   "outputs": [],
   "source": [
    "#If this fails run $ jupyter nbextension enable --py --sys-prefix widgetsnbextension\n",
    "\n",
    "interact(update,time_val=slider_time,time_window=window_slider,min_conf=min_conf_slider)\n"
   ]
  },
  {
   "cell_type": "code",
   "execution_count": null,
   "metadata": {
    "collapsed": false,
    "deletable": true,
    "editable": true
   },
   "outputs": [],
   "source": [
    "time_max\n"
   ]
  },
  {
   "cell_type": "code",
   "execution_count": null,
   "metadata": {
    "collapsed": true,
    "deletable": true,
    "editable": true
   },
   "outputs": [],
   "source": []
  }
 ],
 "metadata": {
  "kernelspec": {
   "display_name": "Python 2",
   "language": "python",
   "name": "python2"
  },
  "language_info": {
   "codemirror_mode": {
    "name": "ipython",
    "version": 2
   },
   "file_extension": ".py",
   "mimetype": "text/x-python",
   "name": "python",
   "nbconvert_exporter": "python",
   "pygments_lexer": "ipython2",
   "version": "2.7.12"
  }
 },
 "nbformat": 4,
 "nbformat_minor": 2
}
